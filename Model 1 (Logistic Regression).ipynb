{
 "cells": [
  {
   "cell_type": "code",
   "execution_count": 1,
   "id": "72bfa0b8",
   "metadata": {},
   "outputs": [],
   "source": [
    "import os\n",
    "import pandas as pd\n",
    "import numpy as np\n",
    "import matplotlib.pyplot as plt\n",
    "import seaborn as sns"
   ]
  },
  {
   "cell_type": "code",
   "execution_count": 3,
   "id": "9628af20",
   "metadata": {},
   "outputs": [],
   "source": [
    "d=pd.read_csv(r\"C:\\Users\\Sahil Kumar\\Desktop\\Data Science\\Semester-2\\Machine Learning\\Machine Learning Data\\Kaggle\\fitness_class_2212.csv\")"
   ]
  },
  {
   "cell_type": "markdown",
   "id": "6eaeec0f",
   "metadata": {},
   "source": [
    "# Overview"
   ]
  },
  {
   "cell_type": "code",
   "execution_count": 4,
   "id": "88fde521",
   "metadata": {},
   "outputs": [
    {
     "data": {
      "text/plain": [
       "(1500, 8)"
      ]
     },
     "execution_count": 4,
     "metadata": {},
     "output_type": "execute_result"
    }
   ],
   "source": [
    "d.shape"
   ]
  },
  {
   "cell_type": "code",
   "execution_count": 5,
   "id": "26082a8c",
   "metadata": {},
   "outputs": [
    {
     "data": {
      "text/plain": [
       "booking_id            int64\n",
       "months_as_member      int64\n",
       "weight              float64\n",
       "days_before          object\n",
       "day_of_week          object\n",
       "time                 object\n",
       "category             object\n",
       "attended              int64\n",
       "dtype: object"
      ]
     },
     "execution_count": 5,
     "metadata": {},
     "output_type": "execute_result"
    }
   ],
   "source": [
    "d.dtypes"
   ]
  },
  {
   "cell_type": "code",
   "execution_count": 6,
   "id": "1bca71b1",
   "metadata": {},
   "outputs": [
    {
     "name": "stdout",
     "output_type": "stream",
     "text": [
      "<class 'pandas.core.frame.DataFrame'>\n",
      "RangeIndex: 1500 entries, 0 to 1499\n",
      "Data columns (total 8 columns):\n",
      " #   Column            Non-Null Count  Dtype  \n",
      "---  ------            --------------  -----  \n",
      " 0   booking_id        1500 non-null   int64  \n",
      " 1   months_as_member  1500 non-null   int64  \n",
      " 2   weight            1480 non-null   float64\n",
      " 3   days_before       1500 non-null   object \n",
      " 4   day_of_week       1500 non-null   object \n",
      " 5   time              1500 non-null   object \n",
      " 6   category          1500 non-null   object \n",
      " 7   attended          1500 non-null   int64  \n",
      "dtypes: float64(1), int64(3), object(4)\n",
      "memory usage: 93.9+ KB\n"
     ]
    }
   ],
   "source": [
    "d.info()"
   ]
  },
  {
   "cell_type": "code",
   "execution_count": 7,
   "id": "c20e0dab",
   "metadata": {},
   "outputs": [
    {
     "data": {
      "text/html": [
       "<div>\n",
       "<style scoped>\n",
       "    .dataframe tbody tr th:only-of-type {\n",
       "        vertical-align: middle;\n",
       "    }\n",
       "\n",
       "    .dataframe tbody tr th {\n",
       "        vertical-align: top;\n",
       "    }\n",
       "\n",
       "    .dataframe thead th {\n",
       "        text-align: right;\n",
       "    }\n",
       "</style>\n",
       "<table border=\"1\" class=\"dataframe\">\n",
       "  <thead>\n",
       "    <tr style=\"text-align: right;\">\n",
       "      <th></th>\n",
       "      <th>booking_id</th>\n",
       "      <th>months_as_member</th>\n",
       "      <th>weight</th>\n",
       "      <th>days_before</th>\n",
       "      <th>day_of_week</th>\n",
       "      <th>time</th>\n",
       "      <th>category</th>\n",
       "      <th>attended</th>\n",
       "    </tr>\n",
       "  </thead>\n",
       "  <tbody>\n",
       "    <tr>\n",
       "      <th>0</th>\n",
       "      <td>1</td>\n",
       "      <td>17</td>\n",
       "      <td>79.56</td>\n",
       "      <td>8</td>\n",
       "      <td>Wed</td>\n",
       "      <td>PM</td>\n",
       "      <td>Strength</td>\n",
       "      <td>0</td>\n",
       "    </tr>\n",
       "    <tr>\n",
       "      <th>1</th>\n",
       "      <td>2</td>\n",
       "      <td>10</td>\n",
       "      <td>79.01</td>\n",
       "      <td>2</td>\n",
       "      <td>Mon</td>\n",
       "      <td>AM</td>\n",
       "      <td>HIIT</td>\n",
       "      <td>0</td>\n",
       "    </tr>\n",
       "    <tr>\n",
       "      <th>2</th>\n",
       "      <td>3</td>\n",
       "      <td>16</td>\n",
       "      <td>74.53</td>\n",
       "      <td>14</td>\n",
       "      <td>Sun</td>\n",
       "      <td>AM</td>\n",
       "      <td>Strength</td>\n",
       "      <td>0</td>\n",
       "    </tr>\n",
       "    <tr>\n",
       "      <th>3</th>\n",
       "      <td>4</td>\n",
       "      <td>5</td>\n",
       "      <td>86.12</td>\n",
       "      <td>10</td>\n",
       "      <td>Fri</td>\n",
       "      <td>AM</td>\n",
       "      <td>Cycling</td>\n",
       "      <td>0</td>\n",
       "    </tr>\n",
       "    <tr>\n",
       "      <th>4</th>\n",
       "      <td>5</td>\n",
       "      <td>15</td>\n",
       "      <td>69.29</td>\n",
       "      <td>8</td>\n",
       "      <td>Thu</td>\n",
       "      <td>AM</td>\n",
       "      <td>HIIT</td>\n",
       "      <td>0</td>\n",
       "    </tr>\n",
       "  </tbody>\n",
       "</table>\n",
       "</div>"
      ],
      "text/plain": [
       "   booking_id  months_as_member  weight days_before day_of_week time  \\\n",
       "0           1                17   79.56           8         Wed   PM   \n",
       "1           2                10   79.01           2         Mon   AM   \n",
       "2           3                16   74.53          14         Sun   AM   \n",
       "3           4                 5   86.12          10         Fri   AM   \n",
       "4           5                15   69.29           8         Thu   AM   \n",
       "\n",
       "   category  attended  \n",
       "0  Strength         0  \n",
       "1      HIIT         0  \n",
       "2  Strength         0  \n",
       "3   Cycling         0  \n",
       "4      HIIT         0  "
      ]
     },
     "execution_count": 7,
     "metadata": {},
     "output_type": "execute_result"
    }
   ],
   "source": [
    "d.head()"
   ]
  },
  {
   "cell_type": "markdown",
   "id": "ac6d5349",
   "metadata": {},
   "source": [
    "# Preprocessing of Data"
   ]
  },
  {
   "cell_type": "markdown",
   "id": "efd4b225",
   "metadata": {},
   "source": [
    "## Exploratory Data Analysis (EDA) & Feature Engineering"
   ]
  },
  {
   "cell_type": "code",
   "execution_count": 8,
   "id": "c0f7bd9c",
   "metadata": {},
   "outputs": [],
   "source": [
    "d1=d.copy()"
   ]
  },
  {
   "cell_type": "code",
   "execution_count": 9,
   "id": "c6f99226",
   "metadata": {},
   "outputs": [
    {
     "data": {
      "text/plain": [
       "HIIT        667\n",
       "Cycling     376\n",
       "Strength    233\n",
       "Yoga        135\n",
       "Aqua         76\n",
       "-            13\n",
       "Name: category, dtype: int64"
      ]
     },
     "execution_count": 9,
     "metadata": {},
     "output_type": "execute_result"
    }
   ],
   "source": [
    "d[\"category\"].value_counts(dropna=False)"
   ]
  },
  {
   "cell_type": "code",
   "execution_count": 10,
   "id": "72255380",
   "metadata": {},
   "outputs": [],
   "source": [
    "d1[\"category\"]=d1[\"category\"].replace(\"-\",np.nan)"
   ]
  },
  {
   "cell_type": "code",
   "execution_count": 11,
   "id": "f6ee4921",
   "metadata": {},
   "outputs": [
    {
     "data": {
      "text/plain": [
       "HIIT        667\n",
       "Cycling     376\n",
       "Strength    233\n",
       "Yoga        135\n",
       "Aqua         76\n",
       "NaN          13\n",
       "Name: category, dtype: int64"
      ]
     },
     "execution_count": 11,
     "metadata": {},
     "output_type": "execute_result"
    }
   ],
   "source": [
    "d1[\"category\"].value_counts(dropna=False)"
   ]
  },
  {
   "cell_type": "code",
   "execution_count": 12,
   "id": "2aac38d6",
   "metadata": {},
   "outputs": [
    {
     "data": {
      "text/plain": [
       "AM    1141\n",
       "PM     359\n",
       "Name: time, dtype: int64"
      ]
     },
     "execution_count": 12,
     "metadata": {},
     "output_type": "execute_result"
    }
   ],
   "source": [
    "d[\"time\"].value_counts(dropna=False)"
   ]
  },
  {
   "cell_type": "code",
   "execution_count": 13,
   "id": "2d5b35b8",
   "metadata": {},
   "outputs": [
    {
     "data": {
      "text/plain": [
       "Fri          279\n",
       "Thu          241\n",
       "Mon          218\n",
       "Sun          213\n",
       "Sat          202\n",
       "Tue          195\n",
       "Wed           81\n",
       "Wednesday     35\n",
       "Fri.          26\n",
       "Monday        10\n",
       "Name: day_of_week, dtype: int64"
      ]
     },
     "execution_count": 13,
     "metadata": {},
     "output_type": "execute_result"
    }
   ],
   "source": [
    "d[\"day_of_week\"].value_counts(dropna=False)"
   ]
  },
  {
   "cell_type": "code",
   "execution_count": 14,
   "id": "2bb65f49",
   "metadata": {},
   "outputs": [],
   "source": [
    "d1[\"day_of_week\"]=d1[\"day_of_week\"].replace({\"Wednesday\":\"Wed\",\"Fri.\":\"Fri\",\"Monday\":\"Mon\"})"
   ]
  },
  {
   "cell_type": "code",
   "execution_count": 15,
   "id": "f3a945e3",
   "metadata": {},
   "outputs": [
    {
     "data": {
      "text/plain": [
       "Fri    305\n",
       "Thu    241\n",
       "Mon    228\n",
       "Sun    213\n",
       "Sat    202\n",
       "Tue    195\n",
       "Wed    116\n",
       "Name: day_of_week, dtype: int64"
      ]
     },
     "execution_count": 15,
     "metadata": {},
     "output_type": "execute_result"
    }
   ],
   "source": [
    "d1[\"day_of_week\"].value_counts(dropna=False)"
   ]
  },
  {
   "cell_type": "code",
   "execution_count": 16,
   "id": "ded005f7",
   "metadata": {},
   "outputs": [
    {
     "data": {
      "text/plain": [
       "8      99\n",
       "7      93\n",
       "6      92\n",
       "9      85\n",
       "5      80\n",
       "       ..\n",
       "60      1\n",
       "90      1\n",
       "105     1\n",
       "62      1\n",
       "69      1\n",
       "Name: months_as_member, Length: 72, dtype: int64"
      ]
     },
     "execution_count": 16,
     "metadata": {},
     "output_type": "execute_result"
    }
   ],
   "source": [
    "d[\"months_as_member\"].value_counts(dropna=False)"
   ]
  },
  {
   "cell_type": "code",
   "execution_count": 17,
   "id": "ce4a3152",
   "metadata": {},
   "outputs": [
    {
     "data": {
      "text/plain": [
       "NaN      20\n",
       "78.28     5\n",
       "75.63     4\n",
       "84.64     4\n",
       "71.49     3\n",
       "         ..\n",
       "65.01     1\n",
       "73.09     1\n",
       "86.22     1\n",
       "79.44     1\n",
       "94.39     1\n",
       "Name: weight, Length: 1242, dtype: int64"
      ]
     },
     "execution_count": 17,
     "metadata": {},
     "output_type": "execute_result"
    }
   ],
   "source": [
    "d[\"weight\"].value_counts(dropna=False)"
   ]
  },
  {
   "cell_type": "code",
   "execution_count": 18,
   "id": "aca70631",
   "metadata": {},
   "outputs": [
    {
     "data": {
      "text/plain": [
       "1       1\n",
       "998     1\n",
       "1007    1\n",
       "1006    1\n",
       "1005    1\n",
       "       ..\n",
       "498     1\n",
       "497     1\n",
       "496     1\n",
       "495     1\n",
       "1500    1\n",
       "Name: booking_id, Length: 1500, dtype: int64"
      ]
     },
     "execution_count": 18,
     "metadata": {},
     "output_type": "execute_result"
    }
   ],
   "source": [
    "d[\"booking_id\"].value_counts(dropna=False)"
   ]
  },
  {
   "cell_type": "code",
   "execution_count": 19,
   "id": "70ad13d0",
   "metadata": {},
   "outputs": [],
   "source": [
    "d1.drop(columns=[\"booking_id\",\"weight\"],inplace=True)"
   ]
  },
  {
   "cell_type": "code",
   "execution_count": 20,
   "id": "e9e4fba5",
   "metadata": {},
   "outputs": [
    {
     "data": {
      "text/plain": [
       "10         293\n",
       "2          199\n",
       "8          194\n",
       "12         178\n",
       "14         172\n",
       "4          154\n",
       "6           70\n",
       "7           38\n",
       "3           31\n",
       "5           30\n",
       "11          26\n",
       "13          25\n",
       "15          24\n",
       "9           24\n",
       "1            9\n",
       "10 days      6\n",
       "14 days      3\n",
       "12 days      3\n",
       "6 days       3\n",
       "4 days       3\n",
       "16           3\n",
       "17           3\n",
       "20           1\n",
       "2 days       1\n",
       "5 days       1\n",
       "7 days       1\n",
       "8 days       1\n",
       "1 days       1\n",
       "3 days       1\n",
       "13 days      1\n",
       "29           1\n",
       "Name: days_before, dtype: int64"
      ]
     },
     "execution_count": 20,
     "metadata": {},
     "output_type": "execute_result"
    }
   ],
   "source": [
    "d[\"days_before\"].value_counts(dropna=False)"
   ]
  },
  {
   "cell_type": "code",
   "execution_count": 21,
   "id": "4d6223a5",
   "metadata": {},
   "outputs": [],
   "source": [
    "d1[\"days_before\"]=d[\"days_before\"].str.split()"
   ]
  },
  {
   "cell_type": "code",
   "execution_count": 22,
   "id": "c2af7854",
   "metadata": {},
   "outputs": [],
   "source": [
    "d1[\"days_before\"]=d1[\"days_before\"].str[0]"
   ]
  },
  {
   "cell_type": "code",
   "execution_count": 23,
   "id": "6eb1b313",
   "metadata": {},
   "outputs": [],
   "source": [
    "d1[\"days_before\"]=d1[\"days_before\"].astype(int)"
   ]
  },
  {
   "cell_type": "code",
   "execution_count": 24,
   "id": "6355f808",
   "metadata": {},
   "outputs": [
    {
     "data": {
      "text/plain": [
       "10    299\n",
       "2     200\n",
       "8     195\n",
       "12    181\n",
       "14    175\n",
       "4     157\n",
       "6      73\n",
       "7      39\n",
       "3      32\n",
       "5      31\n",
       "13     26\n",
       "11     26\n",
       "9      24\n",
       "15     24\n",
       "1      10\n",
       "16      3\n",
       "17      3\n",
       "20      1\n",
       "29      1\n",
       "Name: days_before, dtype: int64"
      ]
     },
     "execution_count": 24,
     "metadata": {},
     "output_type": "execute_result"
    }
   ],
   "source": [
    "d1[\"days_before\"].value_counts(dropna=False)"
   ]
  },
  {
   "cell_type": "code",
   "execution_count": 25,
   "id": "eaf381cc",
   "metadata": {},
   "outputs": [],
   "source": [
    "d1.dropna(inplace=True)"
   ]
  },
  {
   "cell_type": "code",
   "execution_count": 26,
   "id": "ad080a19",
   "metadata": {},
   "outputs": [
    {
     "data": {
      "text/plain": [
       "months_as_member    0\n",
       "days_before         0\n",
       "day_of_week         0\n",
       "time                0\n",
       "category            0\n",
       "attended            0\n",
       "dtype: int64"
      ]
     },
     "execution_count": 26,
     "metadata": {},
     "output_type": "execute_result"
    }
   ],
   "source": [
    "d1.isnull().sum()"
   ]
  },
  {
   "cell_type": "code",
   "execution_count": 27,
   "id": "52f8c06d",
   "metadata": {},
   "outputs": [
    {
     "data": {
      "text/html": [
       "<div>\n",
       "<style scoped>\n",
       "    .dataframe tbody tr th:only-of-type {\n",
       "        vertical-align: middle;\n",
       "    }\n",
       "\n",
       "    .dataframe tbody tr th {\n",
       "        vertical-align: top;\n",
       "    }\n",
       "\n",
       "    .dataframe thead th {\n",
       "        text-align: right;\n",
       "    }\n",
       "</style>\n",
       "<table border=\"1\" class=\"dataframe\">\n",
       "  <thead>\n",
       "    <tr style=\"text-align: right;\">\n",
       "      <th></th>\n",
       "      <th>months_as_member</th>\n",
       "      <th>days_before</th>\n",
       "    </tr>\n",
       "  </thead>\n",
       "  <tbody>\n",
       "    <tr>\n",
       "      <th>months_as_member</th>\n",
       "      <td>1.000000</td>\n",
       "      <td>0.000128</td>\n",
       "    </tr>\n",
       "    <tr>\n",
       "      <th>days_before</th>\n",
       "      <td>0.000128</td>\n",
       "      <td>1.000000</td>\n",
       "    </tr>\n",
       "  </tbody>\n",
       "</table>\n",
       "</div>"
      ],
      "text/plain": [
       "                  months_as_member  days_before\n",
       "months_as_member          1.000000     0.000128\n",
       "days_before               0.000128     1.000000"
      ]
     },
     "execution_count": 27,
     "metadata": {},
     "output_type": "execute_result"
    }
   ],
   "source": [
    "d1[[\"months_as_member\",\"days_before\"]].corr()"
   ]
  },
  {
   "cell_type": "code",
   "execution_count": 28,
   "id": "b9bf0b4b",
   "metadata": {},
   "outputs": [],
   "source": [
    "obj_data=d1[d1.dtypes[d1.dtypes==\"object\"].index]\n",
    "num_data=d1[d1.dtypes[d1.dtypes!=\"object\"].index]"
   ]
  },
  {
   "cell_type": "code",
   "execution_count": 29,
   "id": "f20f238b",
   "metadata": {},
   "outputs": [],
   "source": [
    "def outcap(x):\n",
    "    x=x.clip(upper=x.quantile(.99))\n",
    "    return x"
   ]
  },
  {
   "cell_type": "code",
   "execution_count": 30,
   "id": "c3f06fa5",
   "metadata": {},
   "outputs": [],
   "source": [
    "num_data=num_data.apply(outcap)"
   ]
  },
  {
   "cell_type": "code",
   "execution_count": 31,
   "id": "2ee4b06e",
   "metadata": {},
   "outputs": [],
   "source": [
    "all_data=pd.concat([obj_data,num_data],axis=1)"
   ]
  },
  {
   "cell_type": "code",
   "execution_count": 32,
   "id": "f469c432",
   "metadata": {},
   "outputs": [],
   "source": [
    "d2=pd.get_dummies(all_data,columns=[\"day_of_week\",\"time\",\"category\"],drop_first=True)"
   ]
  },
  {
   "cell_type": "code",
   "execution_count": 33,
   "id": "a534f687",
   "metadata": {},
   "outputs": [
    {
     "data": {
      "text/html": [
       "<div>\n",
       "<style scoped>\n",
       "    .dataframe tbody tr th:only-of-type {\n",
       "        vertical-align: middle;\n",
       "    }\n",
       "\n",
       "    .dataframe tbody tr th {\n",
       "        vertical-align: top;\n",
       "    }\n",
       "\n",
       "    .dataframe thead th {\n",
       "        text-align: right;\n",
       "    }\n",
       "</style>\n",
       "<table border=\"1\" class=\"dataframe\">\n",
       "  <thead>\n",
       "    <tr style=\"text-align: right;\">\n",
       "      <th></th>\n",
       "      <th>months_as_member</th>\n",
       "      <th>days_before</th>\n",
       "      <th>attended</th>\n",
       "      <th>day_of_week_Mon</th>\n",
       "      <th>day_of_week_Sat</th>\n",
       "      <th>day_of_week_Sun</th>\n",
       "      <th>day_of_week_Thu</th>\n",
       "      <th>day_of_week_Tue</th>\n",
       "      <th>day_of_week_Wed</th>\n",
       "      <th>time_PM</th>\n",
       "      <th>category_Cycling</th>\n",
       "      <th>category_HIIT</th>\n",
       "      <th>category_Strength</th>\n",
       "      <th>category_Yoga</th>\n",
       "    </tr>\n",
       "  </thead>\n",
       "  <tbody>\n",
       "    <tr>\n",
       "      <th>0</th>\n",
       "      <td>17.0</td>\n",
       "      <td>8.0</td>\n",
       "      <td>0</td>\n",
       "      <td>0</td>\n",
       "      <td>0</td>\n",
       "      <td>0</td>\n",
       "      <td>0</td>\n",
       "      <td>0</td>\n",
       "      <td>1</td>\n",
       "      <td>1</td>\n",
       "      <td>0</td>\n",
       "      <td>0</td>\n",
       "      <td>1</td>\n",
       "      <td>0</td>\n",
       "    </tr>\n",
       "    <tr>\n",
       "      <th>1</th>\n",
       "      <td>10.0</td>\n",
       "      <td>2.0</td>\n",
       "      <td>0</td>\n",
       "      <td>1</td>\n",
       "      <td>0</td>\n",
       "      <td>0</td>\n",
       "      <td>0</td>\n",
       "      <td>0</td>\n",
       "      <td>0</td>\n",
       "      <td>0</td>\n",
       "      <td>0</td>\n",
       "      <td>1</td>\n",
       "      <td>0</td>\n",
       "      <td>0</td>\n",
       "    </tr>\n",
       "    <tr>\n",
       "      <th>2</th>\n",
       "      <td>16.0</td>\n",
       "      <td>14.0</td>\n",
       "      <td>0</td>\n",
       "      <td>0</td>\n",
       "      <td>0</td>\n",
       "      <td>1</td>\n",
       "      <td>0</td>\n",
       "      <td>0</td>\n",
       "      <td>0</td>\n",
       "      <td>0</td>\n",
       "      <td>0</td>\n",
       "      <td>0</td>\n",
       "      <td>1</td>\n",
       "      <td>0</td>\n",
       "    </tr>\n",
       "    <tr>\n",
       "      <th>3</th>\n",
       "      <td>5.0</td>\n",
       "      <td>10.0</td>\n",
       "      <td>0</td>\n",
       "      <td>0</td>\n",
       "      <td>0</td>\n",
       "      <td>0</td>\n",
       "      <td>0</td>\n",
       "      <td>0</td>\n",
       "      <td>0</td>\n",
       "      <td>0</td>\n",
       "      <td>1</td>\n",
       "      <td>0</td>\n",
       "      <td>0</td>\n",
       "      <td>0</td>\n",
       "    </tr>\n",
       "    <tr>\n",
       "      <th>4</th>\n",
       "      <td>15.0</td>\n",
       "      <td>8.0</td>\n",
       "      <td>0</td>\n",
       "      <td>0</td>\n",
       "      <td>0</td>\n",
       "      <td>0</td>\n",
       "      <td>1</td>\n",
       "      <td>0</td>\n",
       "      <td>0</td>\n",
       "      <td>0</td>\n",
       "      <td>0</td>\n",
       "      <td>1</td>\n",
       "      <td>0</td>\n",
       "      <td>0</td>\n",
       "    </tr>\n",
       "    <tr>\n",
       "      <th>...</th>\n",
       "      <td>...</td>\n",
       "      <td>...</td>\n",
       "      <td>...</td>\n",
       "      <td>...</td>\n",
       "      <td>...</td>\n",
       "      <td>...</td>\n",
       "      <td>...</td>\n",
       "      <td>...</td>\n",
       "      <td>...</td>\n",
       "      <td>...</td>\n",
       "      <td>...</td>\n",
       "      <td>...</td>\n",
       "      <td>...</td>\n",
       "      <td>...</td>\n",
       "    </tr>\n",
       "    <tr>\n",
       "      <th>1495</th>\n",
       "      <td>21.0</td>\n",
       "      <td>10.0</td>\n",
       "      <td>0</td>\n",
       "      <td>0</td>\n",
       "      <td>0</td>\n",
       "      <td>0</td>\n",
       "      <td>0</td>\n",
       "      <td>0</td>\n",
       "      <td>0</td>\n",
       "      <td>0</td>\n",
       "      <td>0</td>\n",
       "      <td>1</td>\n",
       "      <td>0</td>\n",
       "      <td>0</td>\n",
       "    </tr>\n",
       "    <tr>\n",
       "      <th>1496</th>\n",
       "      <td>29.0</td>\n",
       "      <td>2.0</td>\n",
       "      <td>0</td>\n",
       "      <td>1</td>\n",
       "      <td>0</td>\n",
       "      <td>0</td>\n",
       "      <td>0</td>\n",
       "      <td>0</td>\n",
       "      <td>0</td>\n",
       "      <td>0</td>\n",
       "      <td>0</td>\n",
       "      <td>0</td>\n",
       "      <td>1</td>\n",
       "      <td>0</td>\n",
       "    </tr>\n",
       "    <tr>\n",
       "      <th>1497</th>\n",
       "      <td>9.0</td>\n",
       "      <td>4.0</td>\n",
       "      <td>0</td>\n",
       "      <td>0</td>\n",
       "      <td>0</td>\n",
       "      <td>0</td>\n",
       "      <td>0</td>\n",
       "      <td>1</td>\n",
       "      <td>0</td>\n",
       "      <td>0</td>\n",
       "      <td>0</td>\n",
       "      <td>1</td>\n",
       "      <td>0</td>\n",
       "      <td>0</td>\n",
       "    </tr>\n",
       "    <tr>\n",
       "      <th>1498</th>\n",
       "      <td>34.0</td>\n",
       "      <td>14.0</td>\n",
       "      <td>0</td>\n",
       "      <td>0</td>\n",
       "      <td>0</td>\n",
       "      <td>1</td>\n",
       "      <td>0</td>\n",
       "      <td>0</td>\n",
       "      <td>0</td>\n",
       "      <td>0</td>\n",
       "      <td>0</td>\n",
       "      <td>0</td>\n",
       "      <td>0</td>\n",
       "      <td>0</td>\n",
       "    </tr>\n",
       "    <tr>\n",
       "      <th>1499</th>\n",
       "      <td>20.0</td>\n",
       "      <td>8.0</td>\n",
       "      <td>1</td>\n",
       "      <td>0</td>\n",
       "      <td>0</td>\n",
       "      <td>0</td>\n",
       "      <td>1</td>\n",
       "      <td>0</td>\n",
       "      <td>0</td>\n",
       "      <td>0</td>\n",
       "      <td>1</td>\n",
       "      <td>0</td>\n",
       "      <td>0</td>\n",
       "      <td>0</td>\n",
       "    </tr>\n",
       "  </tbody>\n",
       "</table>\n",
       "<p>1487 rows × 14 columns</p>\n",
       "</div>"
      ],
      "text/plain": [
       "      months_as_member  days_before  attended  day_of_week_Mon  \\\n",
       "0                 17.0          8.0         0                0   \n",
       "1                 10.0          2.0         0                1   \n",
       "2                 16.0         14.0         0                0   \n",
       "3                  5.0         10.0         0                0   \n",
       "4                 15.0          8.0         0                0   \n",
       "...                ...          ...       ...              ...   \n",
       "1495              21.0         10.0         0                0   \n",
       "1496              29.0          2.0         0                1   \n",
       "1497               9.0          4.0         0                0   \n",
       "1498              34.0         14.0         0                0   \n",
       "1499              20.0          8.0         1                0   \n",
       "\n",
       "      day_of_week_Sat  day_of_week_Sun  day_of_week_Thu  day_of_week_Tue  \\\n",
       "0                   0                0                0                0   \n",
       "1                   0                0                0                0   \n",
       "2                   0                1                0                0   \n",
       "3                   0                0                0                0   \n",
       "4                   0                0                1                0   \n",
       "...               ...              ...              ...              ...   \n",
       "1495                0                0                0                0   \n",
       "1496                0                0                0                0   \n",
       "1497                0                0                0                1   \n",
       "1498                0                1                0                0   \n",
       "1499                0                0                1                0   \n",
       "\n",
       "      day_of_week_Wed  time_PM  category_Cycling  category_HIIT  \\\n",
       "0                   1        1                 0              0   \n",
       "1                   0        0                 0              1   \n",
       "2                   0        0                 0              0   \n",
       "3                   0        0                 1              0   \n",
       "4                   0        0                 0              1   \n",
       "...               ...      ...               ...            ...   \n",
       "1495                0        0                 0              1   \n",
       "1496                0        0                 0              0   \n",
       "1497                0        0                 0              1   \n",
       "1498                0        0                 0              0   \n",
       "1499                0        0                 1              0   \n",
       "\n",
       "      category_Strength  category_Yoga  \n",
       "0                     1              0  \n",
       "1                     0              0  \n",
       "2                     1              0  \n",
       "3                     0              0  \n",
       "4                     0              0  \n",
       "...                 ...            ...  \n",
       "1495                  0              0  \n",
       "1496                  1              0  \n",
       "1497                  0              0  \n",
       "1498                  0              0  \n",
       "1499                  0              0  \n",
       "\n",
       "[1487 rows x 14 columns]"
      ]
     },
     "execution_count": 33,
     "metadata": {},
     "output_type": "execute_result"
    }
   ],
   "source": [
    "d2"
   ]
  },
  {
   "cell_type": "markdown",
   "id": "8428ca3d",
   "metadata": {},
   "source": [
    "## Model Development"
   ]
  },
  {
   "cell_type": "code",
   "execution_count": 34,
   "id": "3e441212",
   "metadata": {},
   "outputs": [
    {
     "data": {
      "text/plain": [
       "Index(['months_as_member', 'days_before', 'attended', 'day_of_week_Mon',\n",
       "       'day_of_week_Sat', 'day_of_week_Sun', 'day_of_week_Thu',\n",
       "       'day_of_week_Tue', 'day_of_week_Wed', 'time_PM', 'category_Cycling',\n",
       "       'category_HIIT', 'category_Strength', 'category_Yoga'],\n",
       "      dtype='object')"
      ]
     },
     "execution_count": 34,
     "metadata": {},
     "output_type": "execute_result"
    }
   ],
   "source": [
    "d2.columns"
   ]
  },
  {
   "cell_type": "code",
   "execution_count": 35,
   "id": "e7fba013",
   "metadata": {},
   "outputs": [],
   "source": [
    "from sklearn.model_selection import train_test_split\n",
    "from sklearn.linear_model import LogisticRegression"
   ]
  },
  {
   "cell_type": "code",
   "execution_count": 36,
   "id": "f3c4e86c",
   "metadata": {},
   "outputs": [],
   "source": [
    "y=d2[\"attended\"]\n",
    "x=d2.drop(columns=[\"attended\"])"
   ]
  },
  {
   "cell_type": "code",
   "execution_count": 37,
   "id": "4c421f42",
   "metadata": {},
   "outputs": [],
   "source": [
    "x_train,x_test,y_train,y_test=train_test_split(x,y,test_size=.25,random_state=0)"
   ]
  },
  {
   "cell_type": "code",
   "execution_count": 38,
   "id": "537bae80",
   "metadata": {},
   "outputs": [],
   "source": [
    "lg=LogisticRegression()"
   ]
  },
  {
   "cell_type": "code",
   "execution_count": 39,
   "id": "5a880e45",
   "metadata": {},
   "outputs": [
    {
     "name": "stderr",
     "output_type": "stream",
     "text": [
      "C:\\Users\\Sahil Kumar\\anaconda3\\lib\\site-packages\\sklearn\\linear_model\\_logistic.py:814: ConvergenceWarning: lbfgs failed to converge (status=1):\n",
      "STOP: TOTAL NO. of ITERATIONS REACHED LIMIT.\n",
      "\n",
      "Increase the number of iterations (max_iter) or scale the data as shown in:\n",
      "    https://scikit-learn.org/stable/modules/preprocessing.html\n",
      "Please also refer to the documentation for alternative solver options:\n",
      "    https://scikit-learn.org/stable/modules/linear_model.html#logistic-regression\n",
      "  n_iter_i = _check_optimize_result(\n"
     ]
    },
    {
     "data": {
      "text/plain": [
       "LogisticRegression()"
      ]
     },
     "execution_count": 39,
     "metadata": {},
     "output_type": "execute_result"
    }
   ],
   "source": [
    "lg.fit(x_train,y_train)"
   ]
  },
  {
   "cell_type": "markdown",
   "id": "cbd185f1",
   "metadata": {},
   "source": [
    "## Model Evaluation"
   ]
  },
  {
   "cell_type": "code",
   "execution_count": 40,
   "id": "382fc889",
   "metadata": {},
   "outputs": [
    {
     "data": {
      "text/plain": [
       "array([[ 0.13413648, -0.13236474, -0.70551755,  0.39661937,  0.94159429,\n",
       "         0.17986725, -0.5085293 , -0.80782311, -0.08744596, -0.42616309,\n",
       "        -0.18414114, -0.27886814, -0.40085767]])"
      ]
     },
     "execution_count": 40,
     "metadata": {},
     "output_type": "execute_result"
    }
   ],
   "source": [
    "lg.coef_"
   ]
  },
  {
   "cell_type": "code",
   "execution_count": 41,
   "id": "7c1cc99a",
   "metadata": {},
   "outputs": [
    {
     "data": {
      "text/plain": [
       "array([-1.6451906])"
      ]
     },
     "execution_count": 41,
     "metadata": {},
     "output_type": "execute_result"
    }
   ],
   "source": [
    "lg.intercept_"
   ]
  },
  {
   "cell_type": "code",
   "execution_count": 42,
   "id": "ca079fb7",
   "metadata": {},
   "outputs": [
    {
     "data": {
      "text/plain": [
       "0.7847533632286996"
      ]
     },
     "execution_count": 42,
     "metadata": {},
     "output_type": "execute_result"
    }
   ],
   "source": [
    "lg.score(x_train,y_train)"
   ]
  },
  {
   "cell_type": "code",
   "execution_count": 43,
   "id": "df88b74c",
   "metadata": {},
   "outputs": [
    {
     "data": {
      "text/plain": [
       "0.760752688172043"
      ]
     },
     "execution_count": 43,
     "metadata": {},
     "output_type": "execute_result"
    }
   ],
   "source": [
    "lg.score(x_test,y_test)"
   ]
  },
  {
   "cell_type": "code",
   "execution_count": 44,
   "id": "147bf7a2",
   "metadata": {},
   "outputs": [],
   "source": [
    "pred_train=lg.predict(x_train)\n",
    "pred_test=lg.predict(x_test)"
   ]
  },
  {
   "cell_type": "code",
   "execution_count": 45,
   "id": "782bf78e",
   "metadata": {},
   "outputs": [],
   "source": [
    "from sklearn import metrics"
   ]
  },
  {
   "cell_type": "code",
   "execution_count": 46,
   "id": "b0b07d72",
   "metadata": {},
   "outputs": [
    {
     "name": "stdout",
     "output_type": "stream",
     "text": [
      "              precision    recall  f1-score   support\n",
      "\n",
      "           0       0.80      0.93      0.86       783\n",
      "           1       0.72      0.45      0.56       332\n",
      "\n",
      "    accuracy                           0.78      1115\n",
      "   macro avg       0.76      0.69      0.71      1115\n",
      "weighted avg       0.78      0.78      0.77      1115\n",
      "\n"
     ]
    }
   ],
   "source": [
    "print(metrics.classification_report(y_train,pred_train))"
   ]
  },
  {
   "cell_type": "code",
   "execution_count": 47,
   "id": "a540a6e0",
   "metadata": {},
   "outputs": [
    {
     "name": "stdout",
     "output_type": "stream",
     "text": [
      "              precision    recall  f1-score   support\n",
      "\n",
      "           0       0.76      0.94      0.84       252\n",
      "           1       0.76      0.38      0.50       120\n",
      "\n",
      "    accuracy                           0.76       372\n",
      "   macro avg       0.76      0.66      0.67       372\n",
      "weighted avg       0.76      0.76      0.73       372\n",
      "\n"
     ]
    }
   ],
   "source": [
    "print(metrics.classification_report(y_test,pred_test))"
   ]
  },
  {
   "cell_type": "code",
   "execution_count": 48,
   "id": "b65f417d",
   "metadata": {},
   "outputs": [
    {
     "data": {
      "text/html": [
       "<div>\n",
       "<style scoped>\n",
       "    .dataframe tbody tr th:only-of-type {\n",
       "        vertical-align: middle;\n",
       "    }\n",
       "\n",
       "    .dataframe tbody tr th {\n",
       "        vertical-align: top;\n",
       "    }\n",
       "\n",
       "    .dataframe thead th {\n",
       "        text-align: right;\n",
       "    }\n",
       "</style>\n",
       "<table border=\"1\" class=\"dataframe\">\n",
       "  <thead>\n",
       "    <tr style=\"text-align: right;\">\n",
       "      <th></th>\n",
       "      <th>0</th>\n",
       "      <th>1</th>\n",
       "    </tr>\n",
       "  </thead>\n",
       "  <tbody>\n",
       "    <tr>\n",
       "      <th>0</th>\n",
       "      <td>0.834941</td>\n",
       "      <td>0.165059</td>\n",
       "    </tr>\n",
       "    <tr>\n",
       "      <th>1</th>\n",
       "      <td>0.877626</td>\n",
       "      <td>0.122374</td>\n",
       "    </tr>\n",
       "    <tr>\n",
       "      <th>2</th>\n",
       "      <td>0.909251</td>\n",
       "      <td>0.090749</td>\n",
       "    </tr>\n",
       "    <tr>\n",
       "      <th>3</th>\n",
       "      <td>0.923606</td>\n",
       "      <td>0.076394</td>\n",
       "    </tr>\n",
       "    <tr>\n",
       "      <th>4</th>\n",
       "      <td>0.439641</td>\n",
       "      <td>0.560359</td>\n",
       "    </tr>\n",
       "    <tr>\n",
       "      <th>...</th>\n",
       "      <td>...</td>\n",
       "      <td>...</td>\n",
       "    </tr>\n",
       "    <tr>\n",
       "      <th>1110</th>\n",
       "      <td>0.779944</td>\n",
       "      <td>0.220056</td>\n",
       "    </tr>\n",
       "    <tr>\n",
       "      <th>1111</th>\n",
       "      <td>0.803995</td>\n",
       "      <td>0.196005</td>\n",
       "    </tr>\n",
       "    <tr>\n",
       "      <th>1112</th>\n",
       "      <td>0.897692</td>\n",
       "      <td>0.102308</td>\n",
       "    </tr>\n",
       "    <tr>\n",
       "      <th>1113</th>\n",
       "      <td>0.226231</td>\n",
       "      <td>0.773769</td>\n",
       "    </tr>\n",
       "    <tr>\n",
       "      <th>1114</th>\n",
       "      <td>0.781609</td>\n",
       "      <td>0.218391</td>\n",
       "    </tr>\n",
       "  </tbody>\n",
       "</table>\n",
       "<p>1115 rows × 2 columns</p>\n",
       "</div>"
      ],
      "text/plain": [
       "             0         1\n",
       "0     0.834941  0.165059\n",
       "1     0.877626  0.122374\n",
       "2     0.909251  0.090749\n",
       "3     0.923606  0.076394\n",
       "4     0.439641  0.560359\n",
       "...        ...       ...\n",
       "1110  0.779944  0.220056\n",
       "1111  0.803995  0.196005\n",
       "1112  0.897692  0.102308\n",
       "1113  0.226231  0.773769\n",
       "1114  0.781609  0.218391\n",
       "\n",
       "[1115 rows x 2 columns]"
      ]
     },
     "execution_count": 48,
     "metadata": {},
     "output_type": "execute_result"
    }
   ],
   "source": [
    "pd.DataFrame(lg.predict_proba(x_train))"
   ]
  },
  {
   "cell_type": "code",
   "execution_count": 49,
   "id": "894073af",
   "metadata": {},
   "outputs": [
    {
     "data": {
      "text/html": [
       "<div>\n",
       "<style scoped>\n",
       "    .dataframe tbody tr th:only-of-type {\n",
       "        vertical-align: middle;\n",
       "    }\n",
       "\n",
       "    .dataframe tbody tr th {\n",
       "        vertical-align: top;\n",
       "    }\n",
       "\n",
       "    .dataframe thead th {\n",
       "        text-align: right;\n",
       "    }\n",
       "</style>\n",
       "<table border=\"1\" class=\"dataframe\">\n",
       "  <thead>\n",
       "    <tr style=\"text-align: right;\">\n",
       "      <th></th>\n",
       "      <th>0</th>\n",
       "      <th>1</th>\n",
       "    </tr>\n",
       "  </thead>\n",
       "  <tbody>\n",
       "    <tr>\n",
       "      <th>0</th>\n",
       "      <td>0.901502</td>\n",
       "      <td>0.098498</td>\n",
       "    </tr>\n",
       "    <tr>\n",
       "      <th>1</th>\n",
       "      <td>0.936968</td>\n",
       "      <td>0.063032</td>\n",
       "    </tr>\n",
       "    <tr>\n",
       "      <th>2</th>\n",
       "      <td>0.930227</td>\n",
       "      <td>0.069773</td>\n",
       "    </tr>\n",
       "    <tr>\n",
       "      <th>3</th>\n",
       "      <td>0.507107</td>\n",
       "      <td>0.492893</td>\n",
       "    </tr>\n",
       "    <tr>\n",
       "      <th>4</th>\n",
       "      <td>0.905448</td>\n",
       "      <td>0.094552</td>\n",
       "    </tr>\n",
       "    <tr>\n",
       "      <th>...</th>\n",
       "      <td>...</td>\n",
       "      <td>...</td>\n",
       "    </tr>\n",
       "    <tr>\n",
       "      <th>367</th>\n",
       "      <td>0.477900</td>\n",
       "      <td>0.522100</td>\n",
       "    </tr>\n",
       "    <tr>\n",
       "      <th>368</th>\n",
       "      <td>0.516954</td>\n",
       "      <td>0.483046</td>\n",
       "    </tr>\n",
       "    <tr>\n",
       "      <th>369</th>\n",
       "      <td>0.017621</td>\n",
       "      <td>0.982379</td>\n",
       "    </tr>\n",
       "    <tr>\n",
       "      <th>370</th>\n",
       "      <td>0.777095</td>\n",
       "      <td>0.222905</td>\n",
       "    </tr>\n",
       "    <tr>\n",
       "      <th>371</th>\n",
       "      <td>0.174611</td>\n",
       "      <td>0.825389</td>\n",
       "    </tr>\n",
       "  </tbody>\n",
       "</table>\n",
       "<p>372 rows × 2 columns</p>\n",
       "</div>"
      ],
      "text/plain": [
       "            0         1\n",
       "0    0.901502  0.098498\n",
       "1    0.936968  0.063032\n",
       "2    0.930227  0.069773\n",
       "3    0.507107  0.492893\n",
       "4    0.905448  0.094552\n",
       "..        ...       ...\n",
       "367  0.477900  0.522100\n",
       "368  0.516954  0.483046\n",
       "369  0.017621  0.982379\n",
       "370  0.777095  0.222905\n",
       "371  0.174611  0.825389\n",
       "\n",
       "[372 rows x 2 columns]"
      ]
     },
     "execution_count": 49,
     "metadata": {},
     "output_type": "execute_result"
    }
   ],
   "source": [
    "pd.DataFrame(lg.predict_proba(x_test))"
   ]
  }
 ],
 "metadata": {
  "kernelspec": {
   "display_name": "Python 3 (ipykernel)",
   "language": "python",
   "name": "python3"
  },
  "language_info": {
   "codemirror_mode": {
    "name": "ipython",
    "version": 3
   },
   "file_extension": ".py",
   "mimetype": "text/x-python",
   "name": "python",
   "nbconvert_exporter": "python",
   "pygments_lexer": "ipython3",
   "version": "3.9.13"
  }
 },
 "nbformat": 4,
 "nbformat_minor": 5
}
